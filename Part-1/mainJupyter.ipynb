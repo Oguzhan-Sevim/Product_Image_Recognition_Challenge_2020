{
 "cells": [
  {
   "cell_type": "code",
   "execution_count": 1,
   "metadata": {},
   "outputs": [],
   "source": [
    "# Import required libraries:\n",
    "\n",
    "import numpy as np\n",
    "import pandas as pd\n",
    "import os # this library provides easy access to the local file directories\n",
    "\n",
    "import matplotlib.pyplot as plt\n",
    "import matplotlib.image as mpimg\n",
    "\n",
    "import cv2 # opencv library for image processing purposes\n",
    "\n",
    "from sklearn import model_selection\n",
    "from sklearn import neighbors"
   ]
  },
  {
   "cell_type": "code",
   "execution_count": 2,
   "metadata": {},
   "outputs": [],
   "source": [
    "normalization_size = (128, 128) # choose the size of normalization\n",
    "grid_size = (8, 8) # choose the grid pattern. Please choose them \n",
    "hist_bin_size = (20,20,20) # Choose the bin size for histograms of H, S, and V separately"
   ]
  },
  {
   "cell_type": "code",
   "execution_count": 3,
   "metadata": {},
   "outputs": [],
   "source": [
    "def ColorHistogramOfHSV(image, normalization_size, grid_size, hist_bin_size):\n",
    "    ## This function takes an HSV coded image and returns its color histogram.\n",
    "    \n",
    "    hist = np.zeros((np.sum(hist_bin_size)*grid_size[0]*grid_size[1] , 1)) # create an empty array for the descriptor with proper dimensions\n",
    "    \n",
    "    # Scan the image by the windows and find the histogram of each window. Then, concatenate them column wise:\n",
    "    for i in range(grid_size[0]):\n",
    "        for j in range(grid_size[1]):\n",
    "                    \n",
    "            # Create a mask that has the same size with images. The mask will be dark (0) in all areas except the\n",
    "            # desired window location. Window will be white (255).\n",
    "            mask = np.zeros(normalization_size, np.uint8)\n",
    "            mask[int(i*(normalization_size[0]/grid_size[0])) : int((i+1)*(normalization_size[0]/grid_size[0])), int(j*(normalization_size[1]/grid_size[1])) : int((j+1)*(normalization_size[1]/grid_size[1]))] = 255\n",
    "                    \n",
    "            # Find the L1 norm histograms for each H, S, and V. Then, concatenate them to together:\n",
    "            hist_H = cv2.calcHist([image],[0],mask,[hist_bin_size[0]],[0,180])\n",
    "            hist_H = hist_H / np.sum(np.abs(hist_H)) # Divide the histogram array by its L1 norm, so it adds up to 1.\n",
    "            hist_S = cv2.calcHist([image],[1],mask,[hist_bin_size[1]],[0,256])\n",
    "            hist_S = hist_S / np.sum(np.abs(hist_S))\n",
    "            hist_V = cv2.calcHist([image],[2],mask,[hist_bin_size[2]],[0,256])\n",
    "            hist_V = hist_V / np.sum(np.abs(hist_V))\n",
    "                    \n",
    "            hist_window = np.concatenate((hist_H, hist_S, hist_V), axis=0) # This is the histogram of a single window\n",
    "            \n",
    "            hist[(i*grid_size[0]+j)*np.sum(hist_bin_size) : (i*grid_size[0]+j+1)*np.sum(hist_bin_size) , 0] = hist_window[:,0]\n",
    "            \n",
    "    return hist\n",
    "    \n",
    "    "
   ]
  },
  {
   "cell_type": "code",
   "execution_count": 12,
   "metadata": {},
   "outputs": [],
   "source": [
    "def GradientHistogramOfGrayscale(image, normalization_size, grid_size, hist_bin_size):\n",
    "    ## This function takes an HSV coded image and returns its color histogram.\n",
    "    \n",
    "    hist = np.zeros((hist_bin_size[0]*grid_size[0]*grid_size[1] , 1)) # create an empty array for the descriptor with proper dimensions\n",
    "    \n",
    "    # Scan the image by the windows and find the histogram of each window. Then, concatenate them column wise:\n",
    "    for i in range(grid_size[0]):\n",
    "        for j in range(grid_size[1]):\n",
    "            \n",
    "            Gradx = cv2.Sobel(image,cv2.CV_32F,1,0,ksize=3) # By using cv2.CV_32F, gradient of each pixel will be 32-bit floating numbers\n",
    "            Grady = cv2.Sobel(image,cv2.CV_32F,0,1,ksize=3) # \n",
    "            \n",
    "            # Find the angles between the gradients in radians:\n",
    "            GradRadian = np.arctan2(Grady,Gradx) # Each element is between -3.14-3.14\n",
    "            \n",
    "            # Create a mask that has the same size with images. The mask will be dark (0) in all areas except the\n",
    "            # desired window location. Window will be white (255).\n",
    "            mask = np.zeros(normalization_size, np.uint8)\n",
    "            mask[int(i*(normalization_size[0]/grid_size[0])) : int((i+1)*(normalization_size[0]/grid_size[0])), int(j*(normalization_size[1]/grid_size[1])) : int((j+1)*(normalization_size[1]/grid_size[1]))] = 255\n",
    "                    \n",
    "            # Find the L1 norm histograms of each window:\n",
    "            hist_window = cv2.calcHist([GradRadian],[0],mask,[hist_bin_size[0]],[-np.pi,np.pi])\n",
    "            hist_window = hist_window / np.sum(np.abs(hist_window)) # Divide the histogram array by its L1 norm, so it adds up to 1.\n",
    "\n",
    "            # Concatenate them to together:\n",
    "            hist[(i*grid_size[0]+j)*hist_bin_size[0] : (i*grid_size[0]+j+1)*hist_bin_size[0] , 0] = hist_window[:,0]\n",
    "            \n",
    "    return hist"
   ]
  },
  {
   "cell_type": "code",
   "execution_count": 13,
   "metadata": {},
   "outputs": [
    {
     "name": "stdout",
     "output_type": "stream",
     "text": [
      "0\n",
      "1\n",
      "2\n",
      "3\n",
      "4\n"
     ]
    }
   ],
   "source": [
    "# folder1 should be the directory of the SKU_Recognition_Dataset folder. Change it accordingly. \n",
    "folder1 = 'C:/Users/Mecha/Desktop/Graduate courses/EE 58J Data Mining/HW1/SKU_Recognition_Dataset'\n",
    "\n",
    "# We will use 3 for loops in order to go through all categories, all SKUs and all images respectively.\n",
    "# For each image, we will first read, then normalize its size, and finally extract all desired descriptors.\n",
    "\n",
    "y = [] # We will collect the labels of dataset in this list\n",
    "X = [] # This will be our dataset\n",
    "cls = 0\n",
    "classNameDic = {}\n",
    "categoryDic  = {}\n",
    "categoryList = []\n",
    "\n",
    "for counter, file1 in enumerate(os.listdir(folder1)): # .listdir() method willl return a list that contains all the folder names in the folder1\n",
    "    folder2 = folder1+'/'+file1   # Through folder1 -> folder2 -> folder3 -> folder4, we go one step deeper in the directory\n",
    "    categoryList.append(file1)\n",
    "    print('Please wait. {} / 5 is done'.format(counter))\n",
    "    for file2 in os.listdir(folder2):\n",
    "        classNameDic.update({cls: file2})\n",
    "        categoryDic.update({cls: file1})\n",
    "        folder3 = folder2+'/'+file2  # folder3 is the directory of a SKU folder that contains approximately 100 jpeg images\n",
    "        for file3 in os.listdir(folder3):\n",
    "            \n",
    "            # Create the direct path to a single image:\n",
    "            folder4 = folder3+'/'+file3\n",
    "            \n",
    "            # Read the image as a (x,y,3) numpy array:\n",
    "            image = cv2.imread(folder4)\n",
    "            \n",
    "            # Resize it to (128,128,3) array:\n",
    "            image = cv2.resize(image, (128,128))\n",
    "            \n",
    "            # Convert the BGR to HSV format:\n",
    "            image_HSV = cv2.cvtColor(image,cv2.COLOR_BGR2HSV)\n",
    "            \n",
    "            # Find the histogram descriptor of HSV image:\n",
    "            ColorHistogram = ColorHistogramOfHSV(image_HSV, normalization_size, grid_size, hist_bin_size)\n",
    "            \n",
    "            # Convert the BGR to grayscale format:\n",
    "            image_Gray = cv2.cvtColor(image,cv2.COLOR_BGR2GRAY)\n",
    "            \n",
    "            # Find the gradient histogram of grayscale image:\n",
    "            GradientHistogram = GradientHistogramOfGrayscale(image_Gray, normalization_size, grid_size, hist_bin_size)\n",
    "            \n",
    "            # Concatenate two histograms:\n",
    "            ConHistogram = np.concatenate((ColorHistogram, GradientHistogram))\n",
    "            \n",
    "            y.append(cls)\n",
    "            #X.append(GradientHistogram[:,0])\n",
    "            #X.append(ColorHistogram[:,0])\n",
    "            X.append(ConHistogram[:,0])\n",
    "        cls += 1\n",
    "            \n",
    "X = np.asarray(X)\n",
    "y = np.asarray(y)"
   ]
  },
  {
   "cell_type": "code",
   "execution_count": 18,
   "metadata": {},
   "outputs": [],
   "source": [
    "# Split the data into test and training data. By choosing stratify=y, each class will be split approximately by 20-80 ratio. \n",
    "X_train, X_test, y_train, y_test = model_selection.train_test_split(X, y,\n",
    "                                                random_state = 2,\n",
    "                                                stratify=y,\n",
    "                                                test_size=0.20)"
   ]
  },
  {
   "cell_type": "code",
   "execution_count": 19,
   "metadata": {},
   "outputs": [
    {
     "data": {
      "text/plain": [
       "69.65750120598167"
      ]
     },
     "execution_count": 19,
     "metadata": {},
     "output_type": "execute_result"
    }
   ],
   "source": [
    "# Create a NN model with KNN model by chosing K=1. p parameter determines the order of the norm.\n",
    "# When p = 1, this is equivalent to using manhattan_distance (l1), and euclidean_distance (l2) for p = 2.\n",
    "NNmodel = neighbors.KNeighborsClassifier(n_neighbors=1, p=1, metric='minkowski')\n",
    "\n",
    "# Train the model:\n",
    "NNmodel.fit(X_train, y_train)\n",
    "\n",
    "# Test the model by estimating the classes of X_test\n",
    "y_estimated = NNmodel.predict(X_test)\n",
    "\n",
    "# Find the accuracy of the estimation:\n",
    "score = 100 * sum(y_estimated == y_test) / y_estimated.shape[0]\n",
    "\n",
    "print('Accuracy of the classifier is {}'.format(score))"
   ]
  },
  {
   "cell_type": "code",
   "execution_count": 58,
   "metadata": {},
   "outputs": [
    {
     "name": "stdout",
     "output_type": "stream",
     "text": [
      "Category accuracies are as follows:\n",
      "{'confectionery': 72.22222222222223, 'icecream': 55.47785547785548, 'laundry': 72.96650717703349, 'softdrinks-I': 55.693069306930695, 'softdrinks-II': 92.40196078431373}\n"
     ]
    },
    {
     "data": {
      "image/png": "[encoded data removed]",
      "text/plain": [
       "<Figure size 432x288 with 1 Axes>"
      ]
     },
     "metadata": {
      "needs_background": "light"
     },
     "output_type": "display_data"
    }
   ],
   "source": [
    "# Find the accuracies of each category separately and plot it:\n",
    "\n",
    "categoryAccuracies = dict.fromkeys(categoryList)\n",
    "truth = (y_estimated == y_test)\n",
    "\n",
    "for cat in categoryList:\n",
    "    sample = 0\n",
    "    true_est = 0\n",
    "    for i, yy in enumerate(y_test):\n",
    "        if categoryDic[yy] == cat:\n",
    "            sample += 1\n",
    "            true_est += truth[i]\n",
    "    categoryAccuracies[cat] = 100 * true_est / sample\n",
    "    \n",
    "print('Category accuracies are as follows:')\n",
    "print(categoryAccuracies)\n",
    "\n",
    "fig = plt.figure()\n",
    "ax = fig.gca()\n",
    "ax.set_yticks(np.arange(0, 100, 10))\n",
    "\n",
    "plt.bar(categoryAccuracies.keys(), categoryAccuracies.values(), width=0.5, color='r')\n",
    "\n",
    "plt.xlabel('categories')\n",
    "plt.ylabel('accuracy %')\n",
    "plt.grid(True)"
   ]
  },
  {
   "cell_type": "code",
   "execution_count": 57,
   "metadata": {},
   "outputs": [
    {
     "name": "stdout",
     "output_type": "stream",
     "text": [
      "Lowest class accuracy is 20.0\n",
      "Most confused class is sku.70\n"
     ]
    }
   ],
   "source": [
    "min_class = classNameDic[0]\n",
    "minValue = 100\n",
    "minClass = 0\n",
    "for cls in classNameDic.keys():\n",
    "    acc = 100 * sum(y_estimated[np.where(y_test == cls)] == y_test[np.where(y_test == cls)]) / y_test[np.where(y_test == cls)].shape[0]\n",
    "    \n",
    "    if acc < minValue:\n",
    "        minClass = cls\n",
    "        minValue = acc\n",
    "print('Lowest class accuracy is {}'.format(minValue))\n",
    "print('Most confused class is {}'.format(classNameDic[minClass]))"
   ]
  }
 ],
 "metadata": {
  "kernelspec": {
   "display_name": "Python 3",
   "language": "python",
   "name": "python3"
  },
  "language_info": {
   "codemirror_mode": {
    "name": "ipython",
    "version": 3
   },
   "file_extension": ".py",
   "mimetype": "text/x-python",
   "name": "python",
   "nbconvert_exporter": "python",
   "pygments_lexer": "ipython3",
   "version": "3.7.4"
  }
 },
 "nbformat": 4,
 "nbformat_minor": 2
}
