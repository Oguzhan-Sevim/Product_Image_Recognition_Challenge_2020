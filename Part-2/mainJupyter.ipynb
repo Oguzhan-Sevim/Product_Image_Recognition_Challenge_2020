{
 "cells": [
  {
   "cell_type": "code",
   "execution_count": 28,
   "metadata": {},
   "outputs": [],
   "source": [
    "# Import required libraries:\n",
    "\n",
    "import numpy as np\n",
    "import pandas as pd\n",
    "import os # this library provides easy access to the local file directories\n",
    "\n",
    "import matplotlib.pyplot as plt\n",
    "import matplotlib.image as mpimg\n",
    "\n",
    "import cv2 # opencv library for image processing purposes\n",
    "\n",
    "from sklearn import model_selection\n",
    "from sklearn import neighbors\n",
    "from sklearn import metrics as met\n",
    "\n",
    "from RFSfilterbank import  makeRFSfilters # This is the RFS filter bank script\n",
    "\n",
    "import skimage.measure # will be used for max pooling"
   ]
  },
  {
   "cell_type": "code",
   "execution_count": 2,
   "metadata": {},
   "outputs": [],
   "source": [
    "normalization_size = (128, 128) # choose the size of normalization\n",
    "pooling_size = (8,8) # Window size of max. pooling\n",
    "\n",
    "edge, bar, rod = makeRFSfilters() # create the necessary filters"
   ]
  },
  {
   "cell_type": "code",
   "execution_count": 4,
   "metadata": {},
   "outputs": [],
   "source": [
    "def FeatureExtraction(image, pooling_size):\n",
    "    ## This function takes an BGR coded image and returns its descriptors by RFS filters.\n",
    "    \n",
    "    descriptor = np.empty((1,0), int) # We will form descriptor of a single image in this array.\n",
    "\n",
    "    # Find descriptors from edge filters with different orientations:\n",
    "    for i in range(edge.shape[0]): \n",
    "        for j in range(edge.shape[1]):\n",
    "        \n",
    "            # Filter the image:\n",
    "            filtered_image = cv2.filter2D(image, ddepth=cv2.CV_16S, kernel=edge[i,j,:,:])\n",
    "        \n",
    "            # Apply RELU on every pixel:\n",
    "            image_after_RELU = np.maximum(0,filtered_image)\n",
    "        \n",
    "            # Apply max pooling on first channel:\n",
    "            image_after_MaxPool = skimage.measure.block_reduce(image_after_RELU[:,:,0], pooling_size, np.max)\n",
    "            image_after_MaxPool = image_after_MaxPool.reshape( (1,int(image_after_RELU.shape[0]/pooling_size[0])**2) )\n",
    "            descriptor = np.append(descriptor, image_after_MaxPool, axis=1)\n",
    "        \n",
    "            # Apply max pooling on second channel:\n",
    "            image_after_MaxPool = skimage.measure.block_reduce(image_after_RELU[:,:,1], pooling_size, np.max)\n",
    "            image_after_MaxPool = image_after_MaxPool.reshape( (1,int(image_after_RELU.shape[0]/pooling_size[0])**2) )\n",
    "            descriptor = np.append(descriptor, image_after_MaxPool, axis=1)\n",
    "        \n",
    "            # Apply max pooling on third channel:\n",
    "            image_after_MaxPool = skimage.measure.block_reduce(image_after_RELU[:,:,2], pooling_size, np.max)\n",
    "            image_after_MaxPool = image_after_MaxPool.reshape( (1,int(image_after_RELU.shape[0]/pooling_size[0])**2) )\n",
    "            descriptor = np.append(descriptor, image_after_MaxPool, axis=1)\n",
    "\n",
    "\n",
    "    # Find descriptors from bar filters with different orientations:\n",
    "    for i in range(bar.shape[0]): \n",
    "        for j in range(bar.shape[1]):\n",
    "        \n",
    "            # Filter the image:\n",
    "            filtered_image = cv2.filter2D(image, ddepth=cv2.CV_16S, kernel=bar[i,j,:,:])\n",
    "        \n",
    "            # Apply RELU on every pixel:\n",
    "            image_after_RELU = np.maximum(0,filtered_image)\n",
    "        \n",
    "            # Apply max pooling on first channel:\n",
    "            image_after_MaxPool = skimage.measure.block_reduce(image_after_RELU[:,:,0], pooling_size, np.max)\n",
    "            image_after_MaxPool = image_after_MaxPool.reshape( (1,int(image_after_RELU.shape[0]/pooling_size[0])**2) )\n",
    "            descriptor = np.append(descriptor, image_after_MaxPool, axis=1)\n",
    "        \n",
    "            # Apply max pooling on second channel:\n",
    "            image_after_MaxPool = skimage.measure.block_reduce(image_after_RELU[:,:,1], pooling_size, np.max)\n",
    "            image_after_MaxPool = image_after_MaxPool.reshape( (1,int(image_after_RELU.shape[0]/pooling_size[0])**2) )\n",
    "            descriptor = np.append(descriptor, image_after_MaxPool, axis=1)\n",
    "        \n",
    "            # Apply max pooling on third channel:\n",
    "            image_after_MaxPool = skimage.measure.block_reduce(image_after_RELU[:,:,2], pooling_size, np.max)\n",
    "            image_after_MaxPool = image_after_MaxPool.reshape( (1,int(image_after_RELU.shape[0]/pooling_size[0])**2) )\n",
    "            descriptor = np.append(descriptor, image_after_MaxPool, axis=1)\n",
    "        \n",
    "    # Find descriptors from 2 Gaussian filters:\n",
    "    for i in range(rod.shape[0]): \n",
    "        for j in range(rod.shape[1]):\n",
    "        \n",
    "            # Filter the image:\n",
    "            filtered_image = cv2.filter2D(image, ddepth=cv2.CV_16S, kernel=rod[i,j,:,:])\n",
    "        \n",
    "            # Apply RELU on every pixel:\n",
    "            image_after_RELU = np.maximum(0,filtered_image)\n",
    "        \n",
    "            # Apply max pooling on first channel:\n",
    "            image_after_MaxPool = skimage.measure.block_reduce(image_after_RELU[:,:,0], pooling_size, np.max)\n",
    "            image_after_MaxPool = image_after_MaxPool.reshape( (1,int(image_after_RELU.shape[0]/pooling_size[0])**2) )\n",
    "            descriptor = np.append(descriptor, image_after_MaxPool, axis=1)\n",
    "        \n",
    "            # Apply max pooling on second channel:\n",
    "            image_after_MaxPool = skimage.measure.block_reduce(image_after_RELU[:,:,1], pooling_size, np.max)\n",
    "            image_after_MaxPool = image_after_MaxPool.reshape( (1,int(image_after_RELU.shape[0]/pooling_size[0])**2) )\n",
    "            descriptor = np.append(descriptor, image_after_MaxPool, axis=1)\n",
    "        \n",
    "            # Apply max pooling on third channel:\n",
    "            image_after_MaxPool = skimage.measure.block_reduce(image_after_RELU[:,:,2], pooling_size, np.max)\n",
    "            image_after_MaxPool = image_after_MaxPool.reshape( (1,int(image_after_RELU.shape[0]/pooling_size[0])**2) )\n",
    "            descriptor = np.append(descriptor, image_after_MaxPool, axis=1)\n",
    "            \n",
    "    return descriptor"
   ]
  },
  {
   "cell_type": "code",
   "execution_count": 9,
   "metadata": {},
   "outputs": [
    {
     "name": "stdout",
     "output_type": "stream",
     "text": [
      "1\n",
      "2\n",
      "3\n",
      "4\n",
      "5\n",
      "6\n",
      "7\n",
      "8\n",
      "9\n",
      "10\n",
      "11\n",
      "12\n",
      "13\n",
      "14\n",
      "15\n",
      "16\n",
      "17\n",
      "18\n",
      "19\n",
      "20\n"
     ]
    }
   ],
   "source": [
    "# folder1 should be the directory of the SKU_Recognition_Dataset folder. Change it accordingly. \n",
    "folder1 = 'C:/Users/Mecha/Desktop/Graduate courses/EE 58J Data Mining/HW1/SKU_Recognition_Dataset'\n",
    "\n",
    "# We will use 2 for loops in order to go through all confectionery SKUs (class labels) and images respectively.\n",
    "# For each image, we will first read, then normalize its size, and finally extract all desired descriptors.\n",
    "\n",
    "y = [] # We will collect the labels of dataset in this list\n",
    "X = [] # This will be our dataset\n",
    "cls = 0\n",
    "classNameDic = {}\n",
    "classList = []\n",
    "\n",
    "file1 = 'confectionery'\n",
    "folder2 = folder1+'/'+file1   # Through folder1 -> folder2 -> folder3 -> folder4, we go one step deeper in the directory\n",
    "\n",
    "for file2 in os.listdir(folder2): # .listdir() method willl return a list that contains all the folder names\n",
    "    classNameDic.update({cls: file2})\n",
    "    classList.append(file2)\n",
    "    folder3 = folder2+'/'+file2  # folder3 is the directory of a SKU folder that contains approximately 100 jpeg images\n",
    "    for file3 in os.listdir(folder3):\n",
    "            \n",
    "        # Create the direct path to a single image:\n",
    "        folder4 = folder3+'/'+file3\n",
    "            \n",
    "        # Read the image as a (x,y,3) numpy array:\n",
    "        image = cv2.imread(folder4)\n",
    "            \n",
    "        # Resize it to (128,128,3) array:\n",
    "        image = cv2.resize(image, (128,128))\n",
    "        \n",
    "        # Convert the BGR to HSV format:\n",
    "        image = cv2.cvtColor(image,cv2.COLOR_BGR2HSV)\n",
    "            \n",
    "        # Extract the features:\n",
    "        descriptors = FeatureExtraction(image, pooling_size)\n",
    "               \n",
    "        y.append(cls)\n",
    "        X.append(descriptors[0,:])\n",
    "    cls += 1\n",
    "    print(cls)\n",
    "            \n",
    "X = np.asarray(X)\n",
    "y = np.asarray(y)"
   ]
  },
  {
   "cell_type": "code",
   "execution_count": 6,
   "metadata": {},
   "outputs": [],
   "source": [
    "# Split the data into test and training data. By choosing stratify=y, each class will be split approximately by 20-80 ratio. \n",
    "X_train, X_test, y_train, y_test = model_selection.train_test_split(X, y,\n",
    "                                                random_state = 2,\n",
    "                                                stratify=y,\n",
    "                                                test_size=0.20)"
   ]
  },
  {
   "cell_type": "code",
   "execution_count": 6,
   "metadata": {},
   "outputs": [],
   "source": [
    "variance_vectors = {}\n",
    "mean_vectors = {}\n",
    "\n",
    "for c in range(cls):\n",
    "    m = np.var(X_train[(y_train == c), :], axis=0)\n",
    "    variance_vectors.update({c: m})\n",
    "    mean_vectors.update({c: np.mean(X_train[(y_train == c), :], axis=0)})\n",
    "var_over_all_set = np.var(X_train, axis=0)"
   ]
  },
  {
   "cell_type": "code",
   "execution_count": 176,
   "metadata": {},
   "outputs": [
    {
     "name": "stdout",
     "output_type": "stream",
     "text": [
      "56.416464891041166\n"
     ]
    }
   ],
   "source": [
    "# Make predictions by Minimum Distance classifiers:\n",
    "\n",
    "y_prediction = np.zeros(y_test.shape)\n",
    "\n",
    "for test in range(X_test.shape[0]):\n",
    "    distances = np.zeros((1,cls))\n",
    "    for c in range(cls):        \n",
    "        # First Min Distance classifier:\n",
    "        #distances[0,c] = np.dot( (X_test[test,:] - mean_vectors[c]), (X_test[test,:] - mean_vectors[c]) )\n",
    "        \n",
    "        # Second Min Distance classifier:\n",
    "        distances[0,c] = np.dot( (X_test[test,:] - mean_vectors[c]), (X_test[test,:] - mean_vectors[c])/ np.power(var_over_all_set,0.5) )\n",
    "\n",
    "    y_prediction[test] = np.argmin(distances)\n",
    "\n",
    "# Find the accuracy score and print it:\n",
    "score = 100 * sum(y_prediction == y_test) / y_prediction.shape[0]\n",
    "print(score)"
   ]
  },
  {
   "cell_type": "code",
   "execution_count": 7,
   "metadata": {},
   "outputs": [],
   "source": [
    "def ParzenEstimator(sample,c,h,eps):\n",
    "    training_set = X_train[(y_train == c)]\n",
    "    estimate = np.sum(np.absolute(training_set - sample) < (h/2), axis=0).astype('float64')\n",
    "    \n",
    "    # change the zeros with pseudocount, a small number, to prevent zero result.\n",
    "    estimate[estimate < 1] = eps\n",
    "    \n",
    "    return np.sum(np.log( estimate / (h * training_set.shape[0]) ))\n",
    "    #return np.prod( estimate / (h * training_set.shape[0]) )"
   ]
  },
  {
   "cell_type": "code",
   "execution_count": 8,
   "metadata": {
    "scrolled": true
   },
   "outputs": [
    {
     "name": "stdout",
     "output_type": "stream",
     "text": [
      "0\n",
      "40\n",
      "80\n",
      "120\n",
      "160\n",
      "200\n",
      "240\n",
      "280\n",
      "320\n",
      "360\n",
      "400\n",
      "67.79661016949153\n"
     ]
    }
   ],
   "source": [
    "# Make predictions by Naive Bayes classifiers:\n",
    "\n",
    "y_prediction = np.zeros(y_test.shape)\n",
    "\n",
    "for test in range(X_test.shape[0]):\n",
    "    if test % 40 == 0: print(test)\n",
    "    \n",
    "    metrics = np.zeros((1,cls))\n",
    "    for c in range(cls):\n",
    "        \n",
    "        # First NB classifier with Gaussian parametric estimation:\n",
    "        #metrics[0,c] = np.sum(np.log(variance_vectors[c]))\n",
    "        #metrics[0,c] += np.sum( np.power( (X_test[test,:] - mean_vectors[c]) , 2) / variance_vectors[c] )\n",
    "        \n",
    "        # Second NB classifier with box shaped Parzen window estimation:\n",
    "        h = 5\n",
    "        eps = 0.05\n",
    "        metrics[0,c] = ParzenEstimator(X_test[test,:],c,h,eps)\n",
    "\n",
    "    #y_prediction[test] = np.argmin(metrics) # uncomment for first NB classifier\n",
    "    y_prediction[test] = np.argmax(metrics) # uncomment for second..\n",
    "\n",
    "# Find the accuracy score and print it:\n",
    "score = 100 * sum(y_prediction == y_test) / y_prediction.shape[0]\n",
    "print(score)\n"
   ]
  },
  {
   "cell_type": "code",
   "execution_count": 34,
   "metadata": {},
   "outputs": [
    {
     "name": "stdout",
     "output_type": "stream",
     "text": [
      "     0   1   2   3   4   5   6   7   8   9  10  11  12  13  14  15  16  17  \\\n",
      "0   15   0   1   0   0   0   0   0   2   1   1   0   1   0   0   0   0   0   \n",
      "1    0  12   2   1   0   0   0   0   2   0   0   1   2   0   0   0   0   0   \n",
      "2    0   4  13   0   1   0   0   0   1   1   1   0   1   0   0   0   0   0   \n",
      "3    0   0   0  13   0   0   0   2   2   2   0   0   0   0   0   0   0   0   \n",
      "4    0   0   0   0  14   0   0   1   1   4   0   0   0   0   0   0   0   0   \n",
      "5    0   2   1   0   0  15   1   0   0   0   0   0   0   0   0   0   1   1   \n",
      "6    1   0   0   0   0   3  15   0   0   0   0   0   2   0   0   0   0   0   \n",
      "7    1   0   1   1   0   0   0  15   0   2   0   0   0   0   0   0   0   1   \n",
      "8    1   0   1   1   0   0   0   1  15   1   0   0   0   0   0   0   0   0   \n",
      "9    1   0   1   0   0   0   0   0   0  14   0   0   1   0   0   3   0   0   \n",
      "10   0   0   2   0   0   0   0   0   1   1  17   0   0   0   0   0   0   0   \n",
      "11   0   0   1   0   0   0   0   0   0   1   0   8   9   0   0   2   0   0   \n",
      "12   1   0   2   0   0   0   2   0   0   1   0   4  10   0   1   1   0   0   \n",
      "13   0   2   0   0   0   0   0   0   0   1   0   0   2  15   1   0   0   0   \n",
      "14   0   0   2   0   0   0   0   0   3   1   0   0   0   0  14   0   0   0   \n",
      "15   0   1   2   0   0   0   0   0   1   0   0   0   0   0   0  17   0   0   \n",
      "16   1   0   0   0   0   0   4   0   1   0   1   0   0   0   0   0  11   2   \n",
      "17   0   0   1   1   0   0   0   0   0   0   1   0   0   0   0   0   0  17   \n",
      "18   1   0   0   0   0   0   0   0   1   0   2   0   0   0   0   0   0   1   \n",
      "19   0   0   0   0   0   0   1   0   1   0   0   0   0   0   0   0   1   0   \n",
      "\n",
      "    18  19  \n",
      "0    0   0  \n",
      "1    0   0  \n",
      "2    0   0  \n",
      "3    1   0  \n",
      "4    0   0  \n",
      "5    0   0  \n",
      "6    0   0  \n",
      "7    0   0  \n",
      "8    1   0  \n",
      "9    0   0  \n",
      "10   0   0  \n",
      "11   0   0  \n",
      "12   0   0  \n",
      "13   0   0  \n",
      "14   0   0  \n",
      "15   0   0  \n",
      "16   0   0  \n",
      "17   1   0  \n",
      "18  14   0  \n",
      "19   1  16  \n"
     ]
    }
   ],
   "source": [
    "# Print the confusion matrix:\n",
    "conf = met.confusion_matrix(y_test,y_prediction)\n",
    "print(pd.DataFrame(conf))"
   ]
  },
  {
   "cell_type": "code",
   "execution_count": 25,
   "metadata": {},
   "outputs": [
    {
     "name": "stdout",
     "output_type": "stream",
     "text": [
      "Class accuracies are as follows:\n",
      "{'6753': 71.42857142857143, '6764': 60.0, '6770': 59.09090909090909, '6783': 65.0, '6784': 70.0, '6799': 71.42857142857143, '6800': 71.42857142857143, '6820': 71.42857142857143, '6822': 71.42857142857143, '6828': 70.0, '6831': 80.95238095238095, '6866': 38.095238095238095, '6867': 45.45454545454545, '7488': 71.42857142857143, '7489': 70.0, '9554': 80.95238095238095, '9555': 55.0, '9556': 80.95238095238095, '9557': 73.6842105263158, '9578': 80.0}\n"
     ]
    },
    {
     "data": {
      "image/png": "[encoded data removed]",
      "text/plain": [
       "<Figure size 432x288 with 1 Axes>"
      ]
     },
     "metadata": {
      "needs_background": "light"
     },
     "output_type": "display_data"
    }
   ],
   "source": [
    "# Find the accuracies of each category separately and plot it:\n",
    "\n",
    "classAccuracies = dict.fromkeys(classList)\n",
    "truth = (y_prediction == y_test)\n",
    "\n",
    "for cls in classList:\n",
    "    sample = 0\n",
    "    true_est = 0\n",
    "    for i, yy in enumerate(y_test):\n",
    "        if classNameDic[yy] == cls:\n",
    "            sample += 1\n",
    "            true_est += truth[i]\n",
    "    classAccuracies[cls] = 100 * true_est / sample\n",
    "    \n",
    "print('Class accuracies are as follows:')\n",
    "print(classAccuracies)\n",
    "\n",
    "fig = plt.figure()\n",
    "ax = fig.gca()\n",
    "ax.set_yticks(np.arange(0, 100, 10))\n",
    "plt.xticks(rotation='vertical')\n",
    "\n",
    "plt.bar(classAccuracies.keys(), classAccuracies.values(), width=0.6, color='r')\n",
    "\n",
    "plt.xlabel('classes')\n",
    "plt.ylabel('accuracy %')\n",
    "plt.grid(True)"
   ]
  }
 ],
 "metadata": {
  "kernelspec": {
   "display_name": "Python 3",
   "language": "python",
   "name": "python3"
  },
  "language_info": {
   "codemirror_mode": {
    "name": "ipython",
    "version": 3
   },
   "file_extension": ".py",
   "mimetype": "text/x-python",
   "name": "python",
   "nbconvert_exporter": "python",
   "pygments_lexer": "ipython3",
   "version": "3.7.4"
  }
 },
 "nbformat": 4,
 "nbformat_minor": 2
}
