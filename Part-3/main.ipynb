{
 "cells": [
  {
   "cell_type": "code",
   "execution_count": 31,
   "metadata": {},
   "outputs": [],
   "source": [
    "# Import required libraries:\n",
    "\n",
    "import numpy as np\n",
    "import pandas as pd\n",
    "\n",
    "import matplotlib.pyplot as plt\n",
    "import matplotlib.image as mpimg\n",
    "\n",
    "from sklearn import model_selection\n",
    "from sklearn.model_selection import KFold\n",
    "from sklearn.svm import SVC\n",
    "from sklearn import metrics as met"
   ]
  },
  {
   "cell_type": "code",
   "execution_count": 108,
   "metadata": {},
   "outputs": [
    {
     "name": "stdout",
     "output_type": "stream",
     "text": [
      "(2065, 1536) (2065,) (20,)\n"
     ]
    }
   ],
   "source": [
    "categories = {1: 'Algida',\n",
    "             2: 'CCI_TR_Mini_Pilot_2019',\n",
    "             3: 'Mauritus_Pilot',\n",
    "             4: 'PG_TR_Pilot_2019_laundry',\n",
    "             5: 'Ulker_Project_2018'}\n",
    "\n",
    "category_number = 5 # Select the category to work on\n",
    "\n",
    "df = pd.read_csv('C:/Users/Mecha/Desktop/Graduate_Courses/EE58J_DataMining/HW3/{}.csv'.format(categories[category_number]), index_col = 0, header = None)\n",
    "X = df.values\n",
    "index_list = list(df.index)\n",
    "index_list = [im.split('/')[0] for im in index_list]\n",
    "y = np.asarray(index_list)\n",
    "classnames, y = np.unique(y, return_inverse=True)\n",
    "print(X.shape, y.shape, classnames.shape)"
   ]
  },
  {
   "cell_type": "code",
   "execution_count": 109,
   "metadata": {},
   "outputs": [
    {
     "name": "stdout",
     "output_type": "stream",
     "text": [
      "(1652, 1536) (1652,)\n"
     ]
    }
   ],
   "source": [
    "# Split the data into test and training data. By choosing stratify=y, each class will be split approximately by 20-80 ratio. \n",
    "X_tr, X_test, y_tr, y_test = model_selection.train_test_split(X, y,\n",
    "                                                random_state = 2,\n",
    "                                                stratify=y,\n",
    "                                                test_size=0.20)\n",
    "print(X_tr.shape, y_tr.shape)"
   ]
  },
  {
   "cell_type": "code",
   "execution_count": 120,
   "metadata": {},
   "outputs": [
    {
     "name": "stdout",
     "output_type": "stream",
     "text": [
      "0.02\n"
     ]
    }
   ],
   "source": [
    "number_of_folds = 10 # Choose the number of folds for Cross Validation\n",
    "kf = KFold(n_splits=number_of_folds, random_state=1, shuffle=True)\n",
    "\n",
    "#C_values = [1e-6, 1e-5, 1e-4, 1e-3, 1e-2, 1e-1, 1, 1e1, 1e2]\n",
    "C_values = [0.02]\n",
    "mean_accuracies = np.zeros( (len(C_values), 1) )\n",
    "\n",
    "for i,c in enumerate(C_values):\n",
    "    print(c)\n",
    "    mean_accuracy = 0\n",
    "    for train_index, cv_index in kf.split(X_tr):\n",
    "        X_train, X_cv = X_tr[train_index], X_tr[cv_index]\n",
    "        y_train, y_cv = y_tr[train_index], y_tr[cv_index]\n",
    "    \n",
    "        model = SVC(C=c, kernel='linear')\n",
    "        model.fit(X_train, y_train)\n",
    "        fold_accuracy = model.score(X_cv, y_cv)\n",
    "        mean_accuracy += fold_accuracy / number_of_folds\n",
    "    mean_accuracies[i] = mean_accuracy"
   ]
  },
  {
   "cell_type": "code",
   "execution_count": 121,
   "metadata": {},
   "outputs": [
    {
     "name": "stdout",
     "output_type": "stream",
     "text": [
      "[[93.40270172]]\n"
     ]
    }
   ],
   "source": [
    "print(mean_accuracies*100)"
   ]
  },
  {
   "cell_type": "code",
   "execution_count": 122,
   "metadata": {},
   "outputs": [
    {
     "name": "stdout",
     "output_type": "stream",
     "text": [
      "89.34624697336562 99.21307506053269\n"
     ]
    }
   ],
   "source": [
    "model = SVC(C=0.02, kernel='linear') # Choose the regularization parameter found by above search\n",
    "model.fit(X_tr, y_tr)\n",
    "test_accuracy = model.score(X_test, y_test)\n",
    "tr_accuracy = model.score(X_tr, y_tr)\n",
    "\n",
    "print(test_accuracy*100, tr_accuracy*100)"
   ]
  },
  {
   "cell_type": "code",
   "execution_count": 123,
   "metadata": {},
   "outputs": [
    {
     "name": "stdout",
     "output_type": "stream",
     "text": [
      "     0   1   2   3   4   5   6   7   8   9  10  11  12  13  14  15  16  17  \\\n",
      "0   19   1   1   0   0   0   0   0   0   0   0   0   0   0   0   0   0   0   \n",
      "1    0  17   2   0   0   0   0   0   0   1   0   0   0   0   0   0   0   0   \n",
      "2    0   1  21   0   0   0   0   0   0   0   0   0   0   0   0   0   0   0   \n",
      "3    0   0   0  18   0   0   0   0   1   0   1   0   0   0   0   0   0   0   \n",
      "4    0   0   0   0  20   0   0   0   0   0   0   0   0   0   0   0   0   0   \n",
      "5    0   0   0   0   0  21   0   0   0   0   0   0   0   0   0   0   0   0   \n",
      "6    0   0   0   0   0   1  20   0   0   0   0   0   0   0   0   0   0   0   \n",
      "7    0   0   0   0   0   0   0  21   0   0   0   0   0   0   0   0   0   0   \n",
      "8    0   0   0   0   0   0   0   1  20   0   0   0   0   0   0   0   0   0   \n",
      "9    0   0   0   0   0   0   0   0   1  19   0   0   0   0   0   0   0   0   \n",
      "10   0   0   0   0   0   0   0   0   0   0  20   0   0   0   0   1   0   0   \n",
      "11   0   0   0   0   0   0   0   0   0   0   0  11   9   1   0   0   0   0   \n",
      "12   0   0   0   1   0   0   0   0   0   0   0   6  14   0   0   1   0   0   \n",
      "13   0   0   1   1   0   0   0   0   0   0   0   0   0  16   2   1   0   0   \n",
      "14   0   0   0   0   0   0   0   0   0   0   0   0   0   0  20   0   0   0   \n",
      "15   0   1   0   0   0   0   0   0   0   0   0   1   1   0   0  17   0   0   \n",
      "16   0   0   0   0   0   0   0   0   0   0   1   0   0   0   0   0  19   0   \n",
      "17   0   0   0   0   0   0   0   0   0   0   0   0   0   0   0   0   3  18   \n",
      "18   0   0   0   0   0   0   0   1   0   0   0   0   0   0   0   0   0   0   \n",
      "19   0   0   0   0   0   0   0   0   0   0   0   0   0   0   0   0   0   0   \n",
      "\n",
      "    18  19  \n",
      "0    0   0  \n",
      "1    0   0  \n",
      "2    0   0  \n",
      "3    0   0  \n",
      "4    0   0  \n",
      "5    0   0  \n",
      "6    0   0  \n",
      "7    0   0  \n",
      "8    0   0  \n",
      "9    0   0  \n",
      "10   0   0  \n",
      "11   0   0  \n",
      "12   0   0  \n",
      "13   0   0  \n",
      "14   0   0  \n",
      "15   1   0  \n",
      "16   0   0  \n",
      "17   0   0  \n",
      "18  18   0  \n",
      "19   0  20  \n"
     ]
    }
   ],
   "source": [
    "# Print the confusion matrix:\n",
    "conf = met.confusion_matrix(y_test, model.predict(X_test))\n",
    "print(pd.DataFrame(conf).iloc[:,:])"
   ]
  },
  {
   "cell_type": "code",
   "execution_count": 124,
   "metadata": {},
   "outputs": [
    {
     "data": {
      "text/plain": [
       "array(['6753', '6764', '6770', '6783', '6784', '6799', '6800', '6820',\n",
       "       '6822', '6828', '6831', '6866', '6867', '7488', '7489', '9554',\n",
       "       '9555', '9556', '9557', '9578'], dtype='<U4')"
      ]
     },
     "execution_count": 124,
     "metadata": {},
     "output_type": "execute_result"
    }
   ],
   "source": [
    "classnames"
   ]
  }
 ],
 "metadata": {
  "kernelspec": {
   "display_name": "Python 3",
   "language": "python",
   "name": "python3"
  },
  "language_info": {
   "codemirror_mode": {
    "name": "ipython",
    "version": 3
   },
   "file_extension": ".py",
   "mimetype": "text/x-python",
   "name": "python",
   "nbconvert_exporter": "python",
   "pygments_lexer": "ipython3",
   "version": "3.7.4"
  }
 },
 "nbformat": 4,
 "nbformat_minor": 2
}
